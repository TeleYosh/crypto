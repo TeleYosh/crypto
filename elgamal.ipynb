{
 "cells": [
  {
   "cell_type": "code",
   "execution_count": 62,
   "metadata": {},
   "outputs": [],
   "source": [
    "import numpy as np \n",
    "\n",
    "def gcd(a,b):\n",
    "    a,b = min(a,b), max(a,b)\n",
    "    if b%a == 0:\n",
    "        return a\n",
    "    else:\n",
    "        return gcd(a,b%a)"
   ]
  },
  {
   "cell_type": "code",
   "execution_count": 2,
   "metadata": {},
   "outputs": [
    {
     "name": "stdout",
     "output_type": "stream",
     "text": [
      "5 5\n",
      "2 2\n"
     ]
    }
   ],
   "source": [
    "print(gcd(5,25), np.gcd(5,25))\n",
    "print(gcd(6, 32), np.gcd(6,32))\n",
    "for i in range(20):\n",
    "    a, b = np.random.randint(2, 10**5, size=2)\n",
    "    #print(gcd(a,b)==np.gcd(a,b))"
   ]
  },
  {
   "cell_type": "code",
   "execution_count": 3,
   "metadata": {},
   "outputs": [],
   "source": [
    "\n",
    "def mod_expo(a,b,c):\n",
    "    x = 1\n",
    "    y = a\n",
    "    while b > 0:\n",
    "        if b % 2 != 0:\n",
    "            x = (x*y)%c\n",
    "        y = (y*y)%c\n",
    "        b = b//2\n",
    "    return x%c"
   ]
  },
  {
   "cell_type": "code",
   "execution_count": 4,
   "metadata": {},
   "outputs": [],
   "source": [
    "for i in range(20):\n",
    "    a,b,c = np.random.randint(2, 10000, size=3)\n",
    "    #print(a,b,c, power(a,b,c)==mod_expo(a,b,c))"
   ]
  },
  {
   "cell_type": "code",
   "execution_count": 26,
   "metadata": {},
   "outputs": [
    {
     "name": "stdout",
     "output_type": "stream",
     "text": [
      "1 1\n"
     ]
    }
   ],
   "source": [
    "print(53**78%26, mod_expo(53,78,26))\n",
    "def modInverse(A, M):\n",
    " \n",
    "    for X in range(1, M):\n",
    "        if (((A % M) * (X % M)) % M == 1):\n",
    "            return X\n",
    "    return -1"
   ]
  },
  {
   "cell_type": "code",
   "execution_count": 70,
   "metadata": {},
   "outputs": [
    {
     "name": "stdout",
     "output_type": "stream",
     "text": [
      "16 bit prime is: \n",
      " 55603\n"
     ]
    }
   ],
   "source": [
    "# Large Prime Generation for RSA\n",
    "import random\n",
    "\n",
    "# Pre generated primes\n",
    "first_primes_list = [2, 3, 5, 7, 11, 13, 17, 19, 23, 29,\n",
    "\t\t\t\t\t31, 37, 41, 43, 47, 53, 59, 61, 67,\n",
    "\t\t\t\t\t71, 73, 79, 83, 89, 97, 101, 103,\n",
    "\t\t\t\t\t107, 109, 113, 127, 131, 137, 139,\n",
    "\t\t\t\t\t149, 151, 157, 163, 167, 173, 179,\n",
    "\t\t\t\t\t181, 191, 193, 197, 199, 211, 223,\n",
    "\t\t\t\t\t227, 229, 233, 239, 241, 251, 257,\n",
    "\t\t\t\t\t263, 269, 271, 277, 281, 283, 293,\n",
    "\t\t\t\t\t307, 311, 313, 317, 331, 337, 347, 349]\n",
    "\n",
    "\n",
    "def nBitRandom(n):\n",
    "\treturn random.randrange(2**(n-1)+1, 2**n - 1)\n",
    "\n",
    "\n",
    "def getLowLevelPrime(n):\n",
    "\t'''Generate a prime candidate divisible \n",
    "\tby first primes'''\n",
    "\twhile True:\n",
    "\t\t# Obtain a random number\n",
    "\t\tpc = nBitRandom(n)\n",
    "\n",
    "\t\t# Test divisibility by pre-generated\n",
    "\t\t# primes\n",
    "\t\tfor divisor in first_primes_list:\n",
    "\t\t\tif pc % divisor == 0 and divisor**2 <= pc:\n",
    "\t\t\t\tbreak\n",
    "\t\telse:\n",
    "\t\t\treturn pc\n",
    "\n",
    "\n",
    "def isMillerRabinPassed(mrc):\n",
    "\t'''Run 20 iterations of Rabin Miller Primality test'''\n",
    "\tmaxDivisionsByTwo = 0\n",
    "\tec = mrc-1\n",
    "\twhile ec % 2 == 0:\n",
    "\t\tec >>= 1\n",
    "\t\tmaxDivisionsByTwo += 1\n",
    "\tassert(2**maxDivisionsByTwo * ec == mrc-1)\n",
    "\n",
    "\tdef trialComposite(round_tester):\n",
    "\t\tif pow(round_tester, ec, mrc) == 1:\n",
    "\t\t\treturn False\n",
    "\t\tfor i in range(maxDivisionsByTwo):\n",
    "\t\t\tif pow(round_tester, 2**i * ec, mrc) == mrc-1:\n",
    "\t\t\t\treturn False\n",
    "\t\treturn True\n",
    "\n",
    "\t# Set number of trials here\n",
    "\tnumberOfRabinTrials = 20\n",
    "\tfor i in range(numberOfRabinTrials):\n",
    "\t\tround_tester = random.randrange(2, mrc)\n",
    "\t\tif trialComposite(round_tester):\n",
    "\t\t\treturn False\n",
    "\treturn True\n",
    "\n",
    "\n",
    "if __name__ == '__main__':\n",
    "\twhile True:\n",
    "\t\tn = 16\n",
    "\t\tprime_candidate = getLowLevelPrime(n)\n",
    "\t\tif not isMillerRabinPassed(prime_candidate):\n",
    "\t\t\tcontinue\n",
    "\t\telse:\n",
    "\t\t\tprint(n, \"bit prime is: \\n\", prime_candidate)\n",
    "\t\t\tbreak\n"
   ]
  },
  {
   "cell_type": "code",
   "execution_count": 93,
   "metadata": {},
   "outputs": [
    {
     "name": "stdout",
     "output_type": "stream",
     "text": [
      "s 1613\n",
      "m [233, 996, 1313, 233, 1630, 334, 348, 404, 780, 1299, 996, 1787, 404, 564, 996, 1731, 564, 996, 1731, 404, 665, 1097, 1787, 881, 780, 1630, 404, 550, 1745, 996, 923]\n",
      "inv1 1620 inv2 652\n",
      "s*s-1 1248 1248 2613060\n",
      "s*s-1 1\n",
      "m mahmoud bya3 cawcaw ki3jbo tfa7\n"
     ]
    }
   ],
   "source": [
    "q = 1829 # 719 1829 55603\n",
    "g = np.random.randint(2,q) # q exclusive\n",
    "# print(g,mod_expo(g,q,q), g**q%q)\n",
    "x = np.random.randint(2,q-1) # alice secret key\n",
    "h_a = mod_expo(g,x,q)\n",
    "# Bob gets (q,g,h_a)\n",
    "def encypt_msg(msg,q,g,h_a):\n",
    "    y =  np.random.randint(2,q-1) #bob secret key\n",
    "    h_b = mod_expo(g,y,q)\n",
    "    s = mod_expo(h_a,y,q)\n",
    "    print('s',s)\n",
    "    m = []\n",
    "    for char in msg:\n",
    "        m.append( (ord(char)*s)%q )\n",
    "    #m = int(m)\n",
    "    print('m',m)\n",
    "    return h_b, m\n",
    "def decrypt_msg(h_a,x,q,h_b, c):\n",
    "    s = mod_expo(h_b,x,q)\n",
    "    inv_s = mod_expo(h_b,q-1-x,q)\n",
    "    inv_s_2 = modInverse(s,q)\n",
    "    print('inv1',inv_s, 'inv2', inv_s_2)\n",
    "    print('s*s-1',(s*inv_s)%q, s*inv_s%q, s*(inv_s%q))\n",
    "    print('s*s-1',s*(inv_s_2%q)%q)\n",
    "    m = []\n",
    "    for char in c:\n",
    "        m.append((char*inv_s_2)%q)\n",
    "    msg = ''\n",
    "    for i in m:\n",
    "        msg += chr(i)\n",
    "    return msg\n",
    "\n",
    "msg = 'mahmoud bya3 cawcaw ki3jbo tfa7'\n",
    "h_b,c = encypt_msg(msg,q,g,h_a)\n",
    "dec_msg = decrypt_msg(h_a,x,q,h_b,c)\n",
    "print('m', dec_msg)"
   ]
  },
  {
   "cell_type": "code",
   "execution_count": 77,
   "metadata": {},
   "outputs": [
    {
     "name": "stdout",
     "output_type": "stream",
     "text": [
      "104\n",
      "101\n",
      "108\n",
      "108\n",
      "111\n",
      "104101108108111\n"
     ]
    }
   ],
   "source": [
    "msg = 'hello'\n",
    "m = ''\n",
    "for char in msg:\n",
    "    m += str(ord(char))\n",
    "    print(ord(char))\n",
    "m = int(m)\n",
    "print(m)"
   ]
  },
  {
   "cell_type": "code",
   "execution_count": 13,
   "metadata": {},
   "outputs": [
    {
     "name": "stdout",
     "output_type": "stream",
     "text": [
      "h\n",
      "e\n",
      "l\n",
      "l\n",
      "o\n",
      "\n"
     ]
    }
   ],
   "source": [
    "m = '104101108108111'\n",
    "msg = ''\n",
    "for i in range(0,len(m),3):\n",
    "    # print(chr(103))\n",
    "    print(chr(int(m[i:i+3])))\n",
    "    #msg += chr(int(m[i:i+3]))\n",
    "print(msg)\n",
    "# print(chr(103))"
   ]
  },
  {
   "cell_type": "code",
   "execution_count": null,
   "metadata": {},
   "outputs": [],
   "source": []
  }
 ],
 "metadata": {
  "kernelspec": {
   "display_name": "Python 3",
   "language": "python",
   "name": "python3"
  },
  "language_info": {
   "codemirror_mode": {
    "name": "ipython",
    "version": 3
   },
   "file_extension": ".py",
   "mimetype": "text/x-python",
   "name": "python",
   "nbconvert_exporter": "python",
   "pygments_lexer": "ipython3",
   "version": "3.9.5"
  }
 },
 "nbformat": 4,
 "nbformat_minor": 2
}
